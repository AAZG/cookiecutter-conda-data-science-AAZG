{
 "cells": [
  {
   "cell_type": "markdown",
   "metadata": {},
   "source": [
    "# EDA"
   ]
  },
  {
   "cell_type": "code",
   "execution_count": null,
   "metadata": {},
   "outputs": [],
   "source": [
    "%run \"2-0-AAZG-Data cleaning and manipulation.ipynb\""
   ]
  },
  {
   "cell_type": "markdown",
   "metadata": {},
   "source": [
    "## Questions to solve\n",
    "1.\n",
    "2.\n",
    "3.\n",
    "4.\n",
    "5.\n",
    "6.\n",
    "7.\n",
    "8.\n",
    "9.\n",
    "10.\n",
    "11.\n",
    "12.\n",
    "13.\n",
    "14.\n",
    "15.\n",
    "16.\n",
    "17."
   ]
  },
  {
   "cell_type": "markdown",
   "metadata": {},
   "source": [
    "## Correlation analysis"
   ]
  }
 ],
 "metadata": {
  "kernelspec": {
   "display_name": "Python 3.10.7 64-bit (microsoft store)",
   "language": "python",
   "name": "python3"
  },
  "language_info": {
   "name": "python",
   "version": "3.10.7"
  },
  "orig_nbformat": 4,
  "vscode": {
   "interpreter": {
    "hash": "0d429492f2a679588bb7bdbd47ee788723f44c71f04f37099fb0ff73314c45eb"
   }
  }
 },
 "nbformat": 4,
 "nbformat_minor": 2
}
